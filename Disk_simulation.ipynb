{
  "cells": [
    {
      "cell_type": "markdown",
      "metadata": {
        "id": "view-in-github",
        "colab_type": "text"
      },
      "source": [
        "<a href=\"https://colab.research.google.com/github/gfh112/3D-visulaization-TransferFunction/blob/main/Disk_simulation.ipynb\" target=\"_parent\"><img src=\"https://colab.research.google.com/assets/colab-badge.svg\" alt=\"Open In Colab\"/></a>"
      ]
    },
    {
      "cell_type": "code",
      "execution_count": 4,
      "metadata": {
        "id": "iNcZM_J-Dt_B",
        "colab": {
          "base_uri": "https://localhost:8080/"
        },
        "outputId": "cffc91a7-9435-4700-916d-26ec8f544f2e"
      },
      "outputs": [
        {
          "output_type": "stream",
          "name": "stdout",
          "text": [
            "Looking in indexes: https://pypi.org/simple, https://us-python.pkg.dev/colab-wheels/public/simple/\n",
            "Collecting ipyvolume\n",
            "  Downloading ipyvolume-0.5.2-py2.py3-none-any.whl (2.9 MB)\n",
            "\u001b[K     |████████████████████████████████| 2.9 MB 27.0 MB/s \n",
            "\u001b[?25hRequirement already satisfied: numpy in /usr/local/lib/python3.7/dist-packages (from ipyvolume) (1.21.6)\n",
            "Requirement already satisfied: traitlets in /usr/local/lib/python3.7/dist-packages (from ipyvolume) (5.1.1)\n",
            "Requirement already satisfied: requests in /usr/local/lib/python3.7/dist-packages (from ipyvolume) (2.23.0)\n",
            "Collecting ipywebrtc\n",
            "  Downloading ipywebrtc-0.6.0-py2.py3-none-any.whl (260 kB)\n",
            "\u001b[K     |████████████████████████████████| 260 kB 61.4 MB/s \n",
            "\u001b[?25hCollecting traittypes\n",
            "  Downloading traittypes-0.2.1-py2.py3-none-any.whl (8.6 kB)\n",
            "Collecting pythreejs>=1.0.0\n",
            "  Downloading pythreejs-2.4.1-py3-none-any.whl (3.3 MB)\n",
            "\u001b[K     |████████████████████████████████| 3.3 MB 67.7 MB/s \n",
            "\u001b[?25hRequirement already satisfied: ipywidgets>=7.5 in /usr/local/lib/python3.7/dist-packages (from ipyvolume) (7.7.1)\n",
            "Requirement already satisfied: Pillow in /usr/local/lib/python3.7/dist-packages (from ipyvolume) (7.1.2)\n",
            "Requirement already satisfied: ipython-genutils~=0.2.0 in /usr/local/lib/python3.7/dist-packages (from ipywidgets>=7.5->ipyvolume) (0.2.0)\n",
            "Requirement already satisfied: ipykernel>=4.5.1 in /usr/local/lib/python3.7/dist-packages (from ipywidgets>=7.5->ipyvolume) (5.3.4)\n",
            "Requirement already satisfied: ipython>=4.0.0 in /usr/local/lib/python3.7/dist-packages (from ipywidgets>=7.5->ipyvolume) (7.9.0)\n",
            "Requirement already satisfied: jupyterlab-widgets>=1.0.0 in /usr/local/lib/python3.7/dist-packages (from ipywidgets>=7.5->ipyvolume) (3.0.2)\n",
            "Requirement already satisfied: widgetsnbextension~=3.6.0 in /usr/local/lib/python3.7/dist-packages (from ipywidgets>=7.5->ipyvolume) (3.6.1)\n",
            "Requirement already satisfied: tornado>=4.2 in /usr/local/lib/python3.7/dist-packages (from ipykernel>=4.5.1->ipywidgets>=7.5->ipyvolume) (5.1.1)\n",
            "Requirement already satisfied: jupyter-client in /usr/local/lib/python3.7/dist-packages (from ipykernel>=4.5.1->ipywidgets>=7.5->ipyvolume) (6.1.12)\n",
            "Requirement already satisfied: setuptools>=18.5 in /usr/local/lib/python3.7/dist-packages (from ipython>=4.0.0->ipywidgets>=7.5->ipyvolume) (57.4.0)\n",
            "Requirement already satisfied: pygments in /usr/local/lib/python3.7/dist-packages (from ipython>=4.0.0->ipywidgets>=7.5->ipyvolume) (2.6.1)\n",
            "Requirement already satisfied: decorator in /usr/local/lib/python3.7/dist-packages (from ipython>=4.0.0->ipywidgets>=7.5->ipyvolume) (4.4.2)\n",
            "Collecting jedi>=0.10\n",
            "  Downloading jedi-0.18.1-py2.py3-none-any.whl (1.6 MB)\n",
            "\u001b[K     |████████████████████████████████| 1.6 MB 52.8 MB/s \n",
            "\u001b[?25hRequirement already satisfied: pickleshare in /usr/local/lib/python3.7/dist-packages (from ipython>=4.0.0->ipywidgets>=7.5->ipyvolume) (0.7.5)\n",
            "Requirement already satisfied: pexpect in /usr/local/lib/python3.7/dist-packages (from ipython>=4.0.0->ipywidgets>=7.5->ipyvolume) (4.8.0)\n",
            "Requirement already satisfied: backcall in /usr/local/lib/python3.7/dist-packages (from ipython>=4.0.0->ipywidgets>=7.5->ipyvolume) (0.2.0)\n",
            "Requirement already satisfied: prompt-toolkit<2.1.0,>=2.0.0 in /usr/local/lib/python3.7/dist-packages (from ipython>=4.0.0->ipywidgets>=7.5->ipyvolume) (2.0.10)\n",
            "Requirement already satisfied: parso<0.9.0,>=0.8.0 in /usr/local/lib/python3.7/dist-packages (from jedi>=0.10->ipython>=4.0.0->ipywidgets>=7.5->ipyvolume) (0.8.3)\n",
            "Requirement already satisfied: wcwidth in /usr/local/lib/python3.7/dist-packages (from prompt-toolkit<2.1.0,>=2.0.0->ipython>=4.0.0->ipywidgets>=7.5->ipyvolume) (0.2.5)\n",
            "Requirement already satisfied: six>=1.9.0 in /usr/local/lib/python3.7/dist-packages (from prompt-toolkit<2.1.0,>=2.0.0->ipython>=4.0.0->ipywidgets>=7.5->ipyvolume) (1.15.0)\n",
            "Collecting ipydatawidgets>=1.1.1\n",
            "  Downloading ipydatawidgets-4.3.2-py2.py3-none-any.whl (271 kB)\n",
            "\u001b[K     |████████████████████████████████| 271 kB 67.9 MB/s \n",
            "\u001b[?25hRequirement already satisfied: notebook>=4.4.1 in /usr/local/lib/python3.7/dist-packages (from widgetsnbextension~=3.6.0->ipywidgets>=7.5->ipyvolume) (5.3.1)\n",
            "Requirement already satisfied: nbconvert in /usr/local/lib/python3.7/dist-packages (from notebook>=4.4.1->widgetsnbextension~=3.6.0->ipywidgets>=7.5->ipyvolume) (5.6.1)\n",
            "Requirement already satisfied: terminado>=0.8.1 in /usr/local/lib/python3.7/dist-packages (from notebook>=4.4.1->widgetsnbextension~=3.6.0->ipywidgets>=7.5->ipyvolume) (0.13.3)\n",
            "Requirement already satisfied: jupyter-core>=4.4.0 in /usr/local/lib/python3.7/dist-packages (from notebook>=4.4.1->widgetsnbextension~=3.6.0->ipywidgets>=7.5->ipyvolume) (4.11.1)\n",
            "Requirement already satisfied: jinja2 in /usr/local/lib/python3.7/dist-packages (from notebook>=4.4.1->widgetsnbextension~=3.6.0->ipywidgets>=7.5->ipyvolume) (2.11.3)\n",
            "Requirement already satisfied: Send2Trash in /usr/local/lib/python3.7/dist-packages (from notebook>=4.4.1->widgetsnbextension~=3.6.0->ipywidgets>=7.5->ipyvolume) (1.8.0)\n",
            "Requirement already satisfied: nbformat in /usr/local/lib/python3.7/dist-packages (from notebook>=4.4.1->widgetsnbextension~=3.6.0->ipywidgets>=7.5->ipyvolume) (5.4.0)\n",
            "Requirement already satisfied: pyzmq>=13 in /usr/local/lib/python3.7/dist-packages (from jupyter-client->ipykernel>=4.5.1->ipywidgets>=7.5->ipyvolume) (23.2.1)\n",
            "Requirement already satisfied: python-dateutil>=2.1 in /usr/local/lib/python3.7/dist-packages (from jupyter-client->ipykernel>=4.5.1->ipywidgets>=7.5->ipyvolume) (2.8.2)\n",
            "Requirement already satisfied: ptyprocess in /usr/local/lib/python3.7/dist-packages (from terminado>=0.8.1->notebook>=4.4.1->widgetsnbextension~=3.6.0->ipywidgets>=7.5->ipyvolume) (0.7.0)\n",
            "Requirement already satisfied: MarkupSafe>=0.23 in /usr/local/lib/python3.7/dist-packages (from jinja2->notebook>=4.4.1->widgetsnbextension~=3.6.0->ipywidgets>=7.5->ipyvolume) (2.0.1)\n",
            "Requirement already satisfied: bleach in /usr/local/lib/python3.7/dist-packages (from nbconvert->notebook>=4.4.1->widgetsnbextension~=3.6.0->ipywidgets>=7.5->ipyvolume) (5.0.1)\n",
            "Requirement already satisfied: mistune<2,>=0.8.1 in /usr/local/lib/python3.7/dist-packages (from nbconvert->notebook>=4.4.1->widgetsnbextension~=3.6.0->ipywidgets>=7.5->ipyvolume) (0.8.4)\n",
            "Requirement already satisfied: pandocfilters>=1.4.1 in /usr/local/lib/python3.7/dist-packages (from nbconvert->notebook>=4.4.1->widgetsnbextension~=3.6.0->ipywidgets>=7.5->ipyvolume) (1.5.0)\n",
            "Requirement already satisfied: entrypoints>=0.2.2 in /usr/local/lib/python3.7/dist-packages (from nbconvert->notebook>=4.4.1->widgetsnbextension~=3.6.0->ipywidgets>=7.5->ipyvolume) (0.4)\n",
            "Requirement already satisfied: testpath in /usr/local/lib/python3.7/dist-packages (from nbconvert->notebook>=4.4.1->widgetsnbextension~=3.6.0->ipywidgets>=7.5->ipyvolume) (0.6.0)\n",
            "Requirement already satisfied: defusedxml in /usr/local/lib/python3.7/dist-packages (from nbconvert->notebook>=4.4.1->widgetsnbextension~=3.6.0->ipywidgets>=7.5->ipyvolume) (0.7.1)\n",
            "Requirement already satisfied: fastjsonschema in /usr/local/lib/python3.7/dist-packages (from nbformat->notebook>=4.4.1->widgetsnbextension~=3.6.0->ipywidgets>=7.5->ipyvolume) (2.16.1)\n",
            "Requirement already satisfied: jsonschema>=2.6 in /usr/local/lib/python3.7/dist-packages (from nbformat->notebook>=4.4.1->widgetsnbextension~=3.6.0->ipywidgets>=7.5->ipyvolume) (4.3.3)\n",
            "Requirement already satisfied: importlib-metadata in /usr/local/lib/python3.7/dist-packages (from jsonschema>=2.6->nbformat->notebook>=4.4.1->widgetsnbextension~=3.6.0->ipywidgets>=7.5->ipyvolume) (4.12.0)\n",
            "Requirement already satisfied: attrs>=17.4.0 in /usr/local/lib/python3.7/dist-packages (from jsonschema>=2.6->nbformat->notebook>=4.4.1->widgetsnbextension~=3.6.0->ipywidgets>=7.5->ipyvolume) (22.1.0)\n",
            "Requirement already satisfied: importlib-resources>=1.4.0 in /usr/local/lib/python3.7/dist-packages (from jsonschema>=2.6->nbformat->notebook>=4.4.1->widgetsnbextension~=3.6.0->ipywidgets>=7.5->ipyvolume) (5.9.0)\n",
            "Requirement already satisfied: pyrsistent!=0.17.0,!=0.17.1,!=0.17.2,>=0.14.0 in /usr/local/lib/python3.7/dist-packages (from jsonschema>=2.6->nbformat->notebook>=4.4.1->widgetsnbextension~=3.6.0->ipywidgets>=7.5->ipyvolume) (0.18.1)\n",
            "Requirement already satisfied: typing-extensions in /usr/local/lib/python3.7/dist-packages (from jsonschema>=2.6->nbformat->notebook>=4.4.1->widgetsnbextension~=3.6.0->ipywidgets>=7.5->ipyvolume) (4.1.1)\n",
            "Requirement already satisfied: zipp>=3.1.0 in /usr/local/lib/python3.7/dist-packages (from importlib-resources>=1.4.0->jsonschema>=2.6->nbformat->notebook>=4.4.1->widgetsnbextension~=3.6.0->ipywidgets>=7.5->ipyvolume) (3.8.1)\n",
            "Requirement already satisfied: webencodings in /usr/local/lib/python3.7/dist-packages (from bleach->nbconvert->notebook>=4.4.1->widgetsnbextension~=3.6.0->ipywidgets>=7.5->ipyvolume) (0.5.1)\n",
            "Requirement already satisfied: chardet<4,>=3.0.2 in /usr/local/lib/python3.7/dist-packages (from requests->ipyvolume) (3.0.4)\n",
            "Requirement already satisfied: certifi>=2017.4.17 in /usr/local/lib/python3.7/dist-packages (from requests->ipyvolume) (2022.6.15)\n",
            "Requirement already satisfied: idna<3,>=2.5 in /usr/local/lib/python3.7/dist-packages (from requests->ipyvolume) (2.10)\n",
            "Requirement already satisfied: urllib3!=1.25.0,!=1.25.1,<1.26,>=1.21.1 in /usr/local/lib/python3.7/dist-packages (from requests->ipyvolume) (1.24.3)\n",
            "Installing collected packages: jedi, traittypes, ipydatawidgets, pythreejs, ipywebrtc, ipyvolume\n",
            "Successfully installed ipydatawidgets-4.3.2 ipyvolume-0.5.2 ipywebrtc-0.6.0 jedi-0.18.1 pythreejs-2.4.1 traittypes-0.2.1\n",
            "Looking in indexes: https://pypi.org/simple, https://us-python.pkg.dev/colab-wheels/public/simple/\n",
            "Collecting bqplot\n",
            "  Downloading bqplot-0.12.36-py2.py3-none-any.whl (1.2 MB)\n",
            "\u001b[K     |████████████████████████████████| 1.2 MB 28.6 MB/s \n",
            "\u001b[?25hRequirement already satisfied: traitlets>=4.3.0 in /usr/local/lib/python3.7/dist-packages (from bqplot) (5.1.1)\n",
            "Requirement already satisfied: numpy<2.0.0,>=1.10.4 in /usr/local/lib/python3.7/dist-packages (from bqplot) (1.21.6)\n",
            "Requirement already satisfied: traittypes>=0.0.6 in /usr/local/lib/python3.7/dist-packages (from bqplot) (0.2.1)\n",
            "Requirement already satisfied: pandas<2.0.0,>=1.0.0 in /usr/local/lib/python3.7/dist-packages (from bqplot) (1.3.5)\n",
            "Requirement already satisfied: ipywidgets<9,>=7.5.0 in /usr/local/lib/python3.7/dist-packages (from bqplot) (7.7.1)\n",
            "Requirement already satisfied: ipython>=4.0.0 in /usr/local/lib/python3.7/dist-packages (from ipywidgets<9,>=7.5.0->bqplot) (7.9.0)\n",
            "Requirement already satisfied: ipython-genutils~=0.2.0 in /usr/local/lib/python3.7/dist-packages (from ipywidgets<9,>=7.5.0->bqplot) (0.2.0)\n",
            "Requirement already satisfied: widgetsnbextension~=3.6.0 in /usr/local/lib/python3.7/dist-packages (from ipywidgets<9,>=7.5.0->bqplot) (3.6.1)\n",
            "Requirement already satisfied: jupyterlab-widgets>=1.0.0 in /usr/local/lib/python3.7/dist-packages (from ipywidgets<9,>=7.5.0->bqplot) (3.0.2)\n",
            "Requirement already satisfied: ipykernel>=4.5.1 in /usr/local/lib/python3.7/dist-packages (from ipywidgets<9,>=7.5.0->bqplot) (5.3.4)\n",
            "Requirement already satisfied: jupyter-client in /usr/local/lib/python3.7/dist-packages (from ipykernel>=4.5.1->ipywidgets<9,>=7.5.0->bqplot) (6.1.12)\n",
            "Requirement already satisfied: tornado>=4.2 in /usr/local/lib/python3.7/dist-packages (from ipykernel>=4.5.1->ipywidgets<9,>=7.5.0->bqplot) (5.1.1)\n",
            "Requirement already satisfied: jedi>=0.10 in /usr/local/lib/python3.7/dist-packages (from ipython>=4.0.0->ipywidgets<9,>=7.5.0->bqplot) (0.18.1)\n",
            "Requirement already satisfied: decorator in /usr/local/lib/python3.7/dist-packages (from ipython>=4.0.0->ipywidgets<9,>=7.5.0->bqplot) (4.4.2)\n",
            "Requirement already satisfied: prompt-toolkit<2.1.0,>=2.0.0 in /usr/local/lib/python3.7/dist-packages (from ipython>=4.0.0->ipywidgets<9,>=7.5.0->bqplot) (2.0.10)\n",
            "Requirement already satisfied: backcall in /usr/local/lib/python3.7/dist-packages (from ipython>=4.0.0->ipywidgets<9,>=7.5.0->bqplot) (0.2.0)\n",
            "Requirement already satisfied: pygments in /usr/local/lib/python3.7/dist-packages (from ipython>=4.0.0->ipywidgets<9,>=7.5.0->bqplot) (2.6.1)\n",
            "Requirement already satisfied: pickleshare in /usr/local/lib/python3.7/dist-packages (from ipython>=4.0.0->ipywidgets<9,>=7.5.0->bqplot) (0.7.5)\n",
            "Requirement already satisfied: setuptools>=18.5 in /usr/local/lib/python3.7/dist-packages (from ipython>=4.0.0->ipywidgets<9,>=7.5.0->bqplot) (57.4.0)\n",
            "Requirement already satisfied: pexpect in /usr/local/lib/python3.7/dist-packages (from ipython>=4.0.0->ipywidgets<9,>=7.5.0->bqplot) (4.8.0)\n",
            "Requirement already satisfied: parso<0.9.0,>=0.8.0 in /usr/local/lib/python3.7/dist-packages (from jedi>=0.10->ipython>=4.0.0->ipywidgets<9,>=7.5.0->bqplot) (0.8.3)\n",
            "Requirement already satisfied: python-dateutil>=2.7.3 in /usr/local/lib/python3.7/dist-packages (from pandas<2.0.0,>=1.0.0->bqplot) (2.8.2)\n",
            "Requirement already satisfied: pytz>=2017.3 in /usr/local/lib/python3.7/dist-packages (from pandas<2.0.0,>=1.0.0->bqplot) (2022.2.1)\n",
            "Requirement already satisfied: six>=1.9.0 in /usr/local/lib/python3.7/dist-packages (from prompt-toolkit<2.1.0,>=2.0.0->ipython>=4.0.0->ipywidgets<9,>=7.5.0->bqplot) (1.15.0)\n",
            "Requirement already satisfied: wcwidth in /usr/local/lib/python3.7/dist-packages (from prompt-toolkit<2.1.0,>=2.0.0->ipython>=4.0.0->ipywidgets<9,>=7.5.0->bqplot) (0.2.5)\n",
            "Requirement already satisfied: notebook>=4.4.1 in /usr/local/lib/python3.7/dist-packages (from widgetsnbextension~=3.6.0->ipywidgets<9,>=7.5.0->bqplot) (5.3.1)\n",
            "Requirement already satisfied: jupyter-core>=4.4.0 in /usr/local/lib/python3.7/dist-packages (from notebook>=4.4.1->widgetsnbextension~=3.6.0->ipywidgets<9,>=7.5.0->bqplot) (4.11.1)\n",
            "Requirement already satisfied: Send2Trash in /usr/local/lib/python3.7/dist-packages (from notebook>=4.4.1->widgetsnbextension~=3.6.0->ipywidgets<9,>=7.5.0->bqplot) (1.8.0)\n",
            "Requirement already satisfied: nbconvert in /usr/local/lib/python3.7/dist-packages (from notebook>=4.4.1->widgetsnbextension~=3.6.0->ipywidgets<9,>=7.5.0->bqplot) (5.6.1)\n",
            "Requirement already satisfied: nbformat in /usr/local/lib/python3.7/dist-packages (from notebook>=4.4.1->widgetsnbextension~=3.6.0->ipywidgets<9,>=7.5.0->bqplot) (5.4.0)\n",
            "Requirement already satisfied: jinja2 in /usr/local/lib/python3.7/dist-packages (from notebook>=4.4.1->widgetsnbextension~=3.6.0->ipywidgets<9,>=7.5.0->bqplot) (2.11.3)\n",
            "Requirement already satisfied: terminado>=0.8.1 in /usr/local/lib/python3.7/dist-packages (from notebook>=4.4.1->widgetsnbextension~=3.6.0->ipywidgets<9,>=7.5.0->bqplot) (0.13.3)\n",
            "Requirement already satisfied: pyzmq>=13 in /usr/local/lib/python3.7/dist-packages (from jupyter-client->ipykernel>=4.5.1->ipywidgets<9,>=7.5.0->bqplot) (23.2.1)\n",
            "Requirement already satisfied: ptyprocess in /usr/local/lib/python3.7/dist-packages (from terminado>=0.8.1->notebook>=4.4.1->widgetsnbextension~=3.6.0->ipywidgets<9,>=7.5.0->bqplot) (0.7.0)\n",
            "Requirement already satisfied: MarkupSafe>=0.23 in /usr/local/lib/python3.7/dist-packages (from jinja2->notebook>=4.4.1->widgetsnbextension~=3.6.0->ipywidgets<9,>=7.5.0->bqplot) (2.0.1)\n",
            "Requirement already satisfied: mistune<2,>=0.8.1 in /usr/local/lib/python3.7/dist-packages (from nbconvert->notebook>=4.4.1->widgetsnbextension~=3.6.0->ipywidgets<9,>=7.5.0->bqplot) (0.8.4)\n",
            "Requirement already satisfied: testpath in /usr/local/lib/python3.7/dist-packages (from nbconvert->notebook>=4.4.1->widgetsnbextension~=3.6.0->ipywidgets<9,>=7.5.0->bqplot) (0.6.0)\n",
            "Requirement already satisfied: bleach in /usr/local/lib/python3.7/dist-packages (from nbconvert->notebook>=4.4.1->widgetsnbextension~=3.6.0->ipywidgets<9,>=7.5.0->bqplot) (5.0.1)\n",
            "Requirement already satisfied: pandocfilters>=1.4.1 in /usr/local/lib/python3.7/dist-packages (from nbconvert->notebook>=4.4.1->widgetsnbextension~=3.6.0->ipywidgets<9,>=7.5.0->bqplot) (1.5.0)\n",
            "Requirement already satisfied: defusedxml in /usr/local/lib/python3.7/dist-packages (from nbconvert->notebook>=4.4.1->widgetsnbextension~=3.6.0->ipywidgets<9,>=7.5.0->bqplot) (0.7.1)\n",
            "Requirement already satisfied: entrypoints>=0.2.2 in /usr/local/lib/python3.7/dist-packages (from nbconvert->notebook>=4.4.1->widgetsnbextension~=3.6.0->ipywidgets<9,>=7.5.0->bqplot) (0.4)\n",
            "Requirement already satisfied: jsonschema>=2.6 in /usr/local/lib/python3.7/dist-packages (from nbformat->notebook>=4.4.1->widgetsnbextension~=3.6.0->ipywidgets<9,>=7.5.0->bqplot) (4.3.3)\n",
            "Requirement already satisfied: fastjsonschema in /usr/local/lib/python3.7/dist-packages (from nbformat->notebook>=4.4.1->widgetsnbextension~=3.6.0->ipywidgets<9,>=7.5.0->bqplot) (2.16.1)\n",
            "Requirement already satisfied: typing-extensions in /usr/local/lib/python3.7/dist-packages (from jsonschema>=2.6->nbformat->notebook>=4.4.1->widgetsnbextension~=3.6.0->ipywidgets<9,>=7.5.0->bqplot) (4.1.1)\n",
            "Requirement already satisfied: pyrsistent!=0.17.0,!=0.17.1,!=0.17.2,>=0.14.0 in /usr/local/lib/python3.7/dist-packages (from jsonschema>=2.6->nbformat->notebook>=4.4.1->widgetsnbextension~=3.6.0->ipywidgets<9,>=7.5.0->bqplot) (0.18.1)\n",
            "Requirement already satisfied: importlib-resources>=1.4.0 in /usr/local/lib/python3.7/dist-packages (from jsonschema>=2.6->nbformat->notebook>=4.4.1->widgetsnbextension~=3.6.0->ipywidgets<9,>=7.5.0->bqplot) (5.9.0)\n",
            "Requirement already satisfied: attrs>=17.4.0 in /usr/local/lib/python3.7/dist-packages (from jsonschema>=2.6->nbformat->notebook>=4.4.1->widgetsnbextension~=3.6.0->ipywidgets<9,>=7.5.0->bqplot) (22.1.0)\n",
            "Requirement already satisfied: importlib-metadata in /usr/local/lib/python3.7/dist-packages (from jsonschema>=2.6->nbformat->notebook>=4.4.1->widgetsnbextension~=3.6.0->ipywidgets<9,>=7.5.0->bqplot) (4.12.0)\n",
            "Requirement already satisfied: zipp>=3.1.0 in /usr/local/lib/python3.7/dist-packages (from importlib-resources>=1.4.0->jsonschema>=2.6->nbformat->notebook>=4.4.1->widgetsnbextension~=3.6.0->ipywidgets<9,>=7.5.0->bqplot) (3.8.1)\n",
            "Requirement already satisfied: webencodings in /usr/local/lib/python3.7/dist-packages (from bleach->nbconvert->notebook>=4.4.1->widgetsnbextension~=3.6.0->ipywidgets<9,>=7.5.0->bqplot) (0.5.1)\n",
            "Installing collected packages: bqplot\n",
            "Successfully installed bqplot-0.12.36\n"
          ]
        }
      ],
      "source": [
        "!pip install ipyvolume \n",
        "!pip install bqplot\n",
        "\n"
      ]
    },
    {
      "cell_type": "code",
      "source": [
        "from google.colab import drive\n",
        "drive.mount('/content/drive')"
      ],
      "metadata": {
        "id": "ZkX5TNMbKv-r",
        "colab": {
          "base_uri": "https://localhost:8080/"
        },
        "outputId": "a8f0ce9e-0e79-4343-cd20-a78fb5cc6b01"
      },
      "execution_count": 1,
      "outputs": [
        {
          "output_type": "stream",
          "name": "stdout",
          "text": [
            "Mounted at /content/drive\n"
          ]
        }
      ]
    },
    {
      "cell_type": "code",
      "source": [
        "#import numpy as np\n",
        "import os\n",
        "import subprocess\n",
        "import fileinput\n",
        "#%matplotlib notebook\n",
        "import numpy as np\n",
        "import os\n",
        "import subprocess\n",
        "import fileinput\n",
        "import ipyvolume as ipv\n",
        "import ipywidgets\n",
        "from IPython.display import display\n",
        "%matplotlib notebook"
      ],
      "metadata": {
        "id": "qWStkaK6JFrh"
      },
      "execution_count": 5,
      "outputs": []
    },
    {
      "cell_type": "code",
      "source": [
        "pwd"
      ],
      "metadata": {
        "colab": {
          "base_uri": "https://localhost:8080/",
          "height": 35
        },
        "id": "XG54fhGJSS4Y",
        "outputId": "e2f258c1-77fe-4b90-e6ac-541819ec50cc"
      },
      "execution_count": 7,
      "outputs": [
        {
          "output_type": "execute_result",
          "data": {
            "text/plain": [
              "'/content'"
            ],
            "application/vnd.google.colaboratory.intrinsic+json": {
              "type": "string"
            }
          },
          "metadata": {},
          "execution_count": 7
        }
      ]
    },
    {
      "cell_type": "code",
      "source": [
        "data_folder='/content/drive/MyDrive/Colab Notebooks/'"
      ],
      "metadata": {
        "id": "Dt63KtmnSTok"
      },
      "execution_count": 11,
      "outputs": []
    },
    {
      "cell_type": "code",
      "execution_count": 12,
      "metadata": {
        "id": "E0vm6k_HDt_C"
      },
      "outputs": [],
      "source": [
        "Q=np.load(data_folder+'Q.dat', allow_pickle=True)\n",
        "A=np.load(data_folder+'A.dat',allow_pickle=True)\n",
        "H=np.load(data_folder+'H.dat',allow_pickle=True)\n",
        "X=np.load(data_folder+'X.dat',allow_pickle=True)\n",
        "Y=np.load(data_folder+'Y.dat',allow_pickle=True)\n",
        "Z=np.load(data_folder+'Z.dat',allow_pickle=True)\n"
      ]
    },
    {
      "cell_type": "code",
      "execution_count": 13,
      "metadata": {
        "scrolled": false,
        "id": "20M3aXQeDt_E",
        "colab": {
          "base_uri": "https://localhost:8080/",
          "height": 592,
          "referenced_widgets": [
            "672070e6a7c0496683a16c78ce6d408a",
            "4a0286d29bb045359f9067c4b4bd05b4",
            "a941ecb1b45e41baa99485e613784381",
            "199256da031640cf8df510a2247fa37c",
            "2361181caccc46cf893ab0f9e184894e",
            "9e2daf2bd2c04664afa6fba40faddbbd",
            "8a945ced13e94db68236ae363593a78c",
            "db3a9b3f474040a38b8731418996717a",
            "f870b0702ba6428389354a1bddd1d4b3",
            "7d5c80d2b95240fa8718dbef777224f6",
            "31d6c8d054f845b0b562d0b5acd83a98",
            "66c19f11011b495fb8867600dd674bcb",
            "5338fa1d2fab4ab7b955d63e44a43015",
            "ade5196446974a5c9fe275827cdc6871",
            "c5fc6ad7b5704846be64a682453323e0",
            "f5a1a418778241c7af987e3ad4fdb440",
            "fc97bd3c362646de99fe49d1764d3945",
            "d39dcb0046bb4b48a82865a6addf16e9",
            "8bf2aba14e3246eb9d71e31c0836fab6",
            "d4272b32b3d64da0abd316c1425fb4ce",
            "f6a4427cb8d0494bb81b42571ae1dfef",
            "7c330cf0d9904f29bcfa7e608b6170e0",
            "66643e3565f84f8eb827c871da11fbb6",
            "c4d4135feaf54aa38a26eae9abf3d426",
            "205575b6a0ee48398199dfa4fdd9bd74",
            "7e4d58616a7346a5b72766a67dca50e9",
            "66673788c78347e0b2c7547ae64fee6b",
            "5b6d6b891b2e4d36bd1d3502eeefbe91",
            "6f141610908f4e7c880eb873952e49d4"
          ]
        },
        "outputId": "dcf405ee-d52c-4902-8f03-f04a0cbc15c8"
      },
      "outputs": [
        {
          "output_type": "stream",
          "name": "stdout",
          "text": [
            "41.17091855457867 Q\n"
          ]
        },
        {
          "output_type": "display_data",
          "data": {
            "text/plain": [
              "VBox(children=(Figure(animation=80.0, camera=PerspectiveCamera(fov=46.0, position=(-1.969615506024416, 0.0, 0.…"
            ],
            "application/vnd.jupyter.widget-view+json": {
              "version_major": 2,
              "version_minor": 0,
              "model_id": "9e2daf2bd2c04664afa6fba40faddbbd"
            }
          },
          "metadata": {
            "application/vnd.jupyter.widget-view+json": {
              "colab": {
                "custom_widget_manager": {
                  "url": "https://ssl.gstatic.com/colaboratory-static/widgets/colab-cdn-widget-manager/d2e234f7cc04bf79/manager.min.js"
                }
              }
            }
          }
        }
      ],
      "source": [
        "from google.colab import output\n",
        "output.enable_custom_widget_manager()\n",
        "\n",
        "\n",
        "from matplotlib import cm\n",
        "import matplotlib.pylab as pl\n",
        "from matplotlib.colors import ListedColormap\n",
        "import bqplot.pyplot as plt1\n",
        "A1=np.nan_to_num(H)\n",
        "Alpha=np.nan_to_num(A)\n",
        "Qtime=np.nan_to_num(Q)\n",
        "print(Qtime.max(), 'Q')\n",
        "cmap = cm.rainbow_r\n",
        "# Get the colormap colors\n",
        "my_cmap = cmap(np.arange(len(Alpha)))\n",
        "# Define the alphas in the range from 0 to 1\n",
        "alphas = Alpha/Alpha.max()#np.linspace(0, 1, cmap.N)\n",
        "# Define the background as white\n",
        "BG = np.asarray([1., 1., 1.,])\n",
        "\n",
        "cmap.set_bad(color='white')\n",
        "cmap.set_under(color='white')   \n",
        "cmap.set_over(color='white')   \n",
        "znorm = (A1 - A1.min())/(2)#*A1\n",
        "znorm[znorm>2]=2\n",
        "znorm[znorm<0.01]=0.0\n",
        "\n",
        "color = cmap(znorm)\n",
        "\n",
        "\n",
        "color[:,:,3] = alphas **0.1\n",
        "\n",
        "\n",
        "timebins=np.linspace(0,35,35)\n",
        "test1=[]\n",
        "color2=[]\n",
        "\n",
        "for j, ttest in enumerate(timebins[:-1]):\n",
        "    test=np.copy(Qtime)\n",
        "    color1=np.copy(color)\n",
        "    ix1=(Qtime<timebins[j+1])&(Qtime>timebins[j])\n",
        "    ix2=np.invert(ix1)\n",
        "    test[ix1]=1.0\n",
        "    test[ix2]=-0.1\n",
        "    color1[:,:,3] = alphas **0.45 *test\n",
        "    color2.append(color1)\n",
        "    test1.append(test)\n",
        "\n",
        "color2=np.array(color2)\n",
        "\n",
        "\n",
        "grey1=(0.5, 0.5,0.5, 0.05)\n",
        "#grey1=(12, 8, 12, 0.5)\n",
        "\n",
        "\n",
        "qz=np.array([10.0])\n",
        "qxy=np.array([0.0])\n",
        "fig=ipv.figure()\n",
        "\n",
        "\n",
        "mesh = ipv.plot_mesh(X, Y, Z,color=color2[...,:4] , wireframe=False)\n",
        "w1 = ipv.plot_mesh(X, Y, Z, color=grey1, wireframe=False)#\n",
        "w1.material.transparent = True\n",
        "\n",
        "mesh.material.transparent = True\n",
        "\n",
        "\n",
        "w2=ipv.scatter(qxy, qxy, qz, marker='sphere', size=1, color='yellow')\n",
        "w2=ipv.scatter(qxy, qxy, qxy, marker='sphere', size=1, color='black')\n",
        "\n",
        "w2.material.transparent = True\n",
        "Rtest=np.linspace(0,100,50)\n",
        "ipv.plot(np.zeros(np.shape(Rtest)), Rtest, Rtest/np.tan(5*np.pi/180))#\n",
        "\n",
        "\n",
        "ipv.animation_control(mesh, interval=80)#, sequence_length=50)\n",
        "\n",
        "\n",
        "ipv.ylim(-100, 100)\n",
        "ipv.xlim(-100, 100)\n",
        "ipv.zlim(0, 200)\n",
        "ipv.xyzlabel('X [Rg]', 'Y [Rg]', 'Z [Rg]')\n",
        "ipv.style.box_off()\n",
        "ipv.view(-800, 0)\n",
        "ipv.show()"
      ]
    },
    {
      "cell_type": "code",
      "source": [
        "from google.colab import output\n",
        "output.enable_custom_widget_manager()"
      ],
      "metadata": {
        "id": "ts4lr2STPcBu"
      },
      "execution_count": null,
      "outputs": []
    },
    {
      "cell_type": "code",
      "source": [
        "from google.colab import output\n",
        "output.disable_custom_widget_manager()"
      ],
      "metadata": {
        "id": "u2IYSa9pPcBu"
      },
      "execution_count": null,
      "outputs": []
    },
    {
      "cell_type": "code",
      "execution_count": null,
      "metadata": {
        "id": "ftqbHTm7Dt_G"
      },
      "outputs": [],
      "source": []
    },
    {
      "cell_type": "code",
      "execution_count": null,
      "metadata": {
        "id": "xbJbxbK5Dt_G"
      },
      "outputs": [],
      "source": [
        "import ipyvolume.datasets\n",
        "stream = ipyvolume.datasets.animated_stream.fetch()\n",
        "print(\"shape of steam data\", stream.data.shape) # first dimension contains x, y, z, vx, vy, vz, then time, then particle"
      ]
    },
    {
      "cell_type": "code",
      "execution_count": null,
      "metadata": {
        "id": "hsKh8zNaDt_G"
      },
      "outputs": [],
      "source": [
        "from google.colab import output\n",
        "output.enable_custom_widget_manager()\n",
        "fig = ipv.figure()\n",
        "# instead of doing x=stream.data[0], y=stream.data[1], ... vz=stream.data[5], use *stream.data\n",
        "# limit to 50 timesteps to avoid having a huge notebook\n",
        "q = ipv.quiver(*stream.data[:,0:50,:200], color=\"red\", size=7)\n",
        "ipv.style.use(\"dark\") # looks better\n",
        "ipv.animation_control(q, interval=200)\n",
        "ipv.show()"
      ]
    },
    {
      "cell_type": "code",
      "source": [],
      "metadata": {
        "id": "9c7qRC-kN_1x"
      },
      "execution_count": null,
      "outputs": []
    },
    {
      "cell_type": "code",
      "source": [
        "# only x is a sequence of arrays\n",
        "x = np.array([[-1, -0.8], [1, -0.1], [0., 0.5]])\n",
        "y = np.array([0.0, 0.0])\n",
        "z = np.array([0.0, 0.0])\n",
        "ipv.figure()\n",
        "s = ipv.scatter(x, y, z, marker='sphere', size=10)\n",
        "ipv.xyzlim(-1, 1)\n",
        "ipv.animation_control(s) # shows controls for animation controls\n",
        "ipv.show()"
      ],
      "metadata": {
        "id": "w6I3pPKPN_1y"
      },
      "execution_count": null,
      "outputs": []
    },
    {
      "cell_type": "code",
      "execution_count": null,
      "metadata": {
        "id": "54GZpMO_Dt_G"
      },
      "outputs": [],
      "source": [
        "# create 2d grids: x, y, and r\n",
        "u = np.linspace(-10, 10, 25)\n",
        "x, y = np.meshgrid(u, u)\n",
        "r = np.sqrt(x**2+y**2)\n",
        "print(\"x,y and z are of shape\", x.shape)\n",
        "# and turn them into 1d\n",
        "x = x.flatten()\n",
        "y = y.flatten()\n",
        "r = r.flatten()\n",
        "print(\"and flattened of shape\", x.shape)"
      ]
    },
    {
      "cell_type": "code",
      "execution_count": null,
      "metadata": {
        "id": "nJRPb45ZDt_G"
      },
      "outputs": [],
      "source": [
        "# create a sequence of 15 time elements\n",
        "time = np.linspace(0, np.pi*2, 15)\n",
        "z = np.array([(np.cos(r + t) * np.exp(-r/5)) for t in time])\n",
        "print(\"z is of shape\", z.shape)"
      ]
    },
    {
      "cell_type": "code",
      "execution_count": null,
      "metadata": {
        "id": "GTRP-koQDt_G"
      },
      "outputs": [],
      "source": [
        "# draw the scatter plot, and add controls with animate_glyphs\n",
        "ipv.figure()\n",
        "s = ipv.scatter(x, z, y, marker=\"sphere\")\n",
        "ipv.animation_control(s, interval=200)\n",
        "ipv.ylim(-3,3)\n",
        "ipv.show()"
      ]
    }
  ],
  "metadata": {
    "kernelspec": {
      "display_name": "Python 3",
      "language": "python",
      "name": "python3"
    },
    "language_info": {
      "codemirror_mode": {
        "name": "ipython",
        "version": 3
      },
      "file_extension": ".py",
      "mimetype": "text/x-python",
      "name": "python",
      "nbconvert_exporter": "python",
      "pygments_lexer": "ipython3",
      "version": "3.7.4"
    },
    "colab": {
      "provenance": [],
      "collapsed_sections": [],
      "include_colab_link": true
    },
    "widgets": {
      "application/vnd.jupyter.widget-state+json": {
        "672070e6a7c0496683a16c78ce6d408a": {
          "model_module": "@jupyter-widgets/controls",
          "model_name": "PlayModel",
          "model_module_version": "1.5.0",
          "state": {
            "_dom_classes": [],
            "_model_module": "@jupyter-widgets/controls",
            "_model_module_version": "1.5.0",
            "_model_name": "PlayModel",
            "_playing": false,
            "_repeat": false,
            "_view_count": null,
            "_view_module": "@jupyter-widgets/controls",
            "_view_module_version": "1.5.0",
            "_view_name": "PlayView",
            "description": "",
            "description_tooltip": null,
            "disabled": false,
            "interval": 80,
            "layout": "IPY_MODEL_199256da031640cf8df510a2247fa37c",
            "max": 33,
            "min": 0,
            "show_repeat": true,
            "step": 1,
            "style": "IPY_MODEL_2361181caccc46cf893ab0f9e184894e",
            "value": 1,
            "playing": true,
            "repeat": true
          }
        },
        "4a0286d29bb045359f9067c4b4bd05b4": {
          "model_module": "@jupyter-widgets/controls",
          "model_name": "FloatSliderModel",
          "model_module_version": "1.5.0",
          "state": {
            "_dom_classes": [],
            "_model_module": "@jupyter-widgets/controls",
            "_model_module_version": "1.5.0",
            "_model_name": "FloatSliderModel",
            "_view_count": null,
            "_view_module": "@jupyter-widgets/controls",
            "_view_module_version": "1.5.0",
            "_view_name": "FloatSliderView",
            "continuous_update": true,
            "description": "",
            "description_tooltip": null,
            "disabled": false,
            "layout": "IPY_MODEL_8a945ced13e94db68236ae363593a78c",
            "max": 33,
            "min": 0,
            "orientation": "horizontal",
            "readout": true,
            "readout_format": ".2f",
            "step": 1,
            "style": "IPY_MODEL_db3a9b3f474040a38b8731418996717a",
            "value": 0
          }
        },
        "a941ecb1b45e41baa99485e613784381": {
          "model_module": "ipyvolume",
          "model_name": "MeshModel",
          "model_module_version": "~0.5.2",
          "state": {
            "_model_module": "ipyvolume",
            "_model_module_version": "~0.5.2",
            "_model_name": "MeshModel",
            "_view_count": null,
            "_view_module": "ipyvolume",
            "_view_module_version": "~0.5.2",
            "_view_name": "MeshView",
            "color": [
              {
                "dtype": "float32",
                "shape": [
                  22201,
                  4
                ]
              },
              {
                "dtype": "float32",
                "shape": [
                  22201,
                  4
                ]
              },
              {
                "dtype": "float32",
                "shape": [
                  22201,
                  4
                ]
              },
              {
                "dtype": "float32",
                "shape": [
                  22201,
                  4
                ]
              },
              {
                "dtype": "float32",
                "shape": [
                  22201,
                  4
                ]
              },
              {
                "dtype": "float32",
                "shape": [
                  22201,
                  4
                ]
              },
              {
                "dtype": "float32",
                "shape": [
                  22201,
                  4
                ]
              },
              {
                "dtype": "float32",
                "shape": [
                  22201,
                  4
                ]
              },
              {
                "dtype": "float32",
                "shape": [
                  22201,
                  4
                ]
              },
              {
                "dtype": "float32",
                "shape": [
                  22201,
                  4
                ]
              },
              {
                "dtype": "float32",
                "shape": [
                  22201,
                  4
                ]
              },
              {
                "dtype": "float32",
                "shape": [
                  22201,
                  4
                ]
              },
              {
                "dtype": "float32",
                "shape": [
                  22201,
                  4
                ]
              },
              {
                "dtype": "float32",
                "shape": [
                  22201,
                  4
                ]
              },
              {
                "dtype": "float32",
                "shape": [
                  22201,
                  4
                ]
              },
              {
                "dtype": "float32",
                "shape": [
                  22201,
                  4
                ]
              },
              {
                "dtype": "float32",
                "shape": [
                  22201,
                  4
                ]
              },
              {
                "dtype": "float32",
                "shape": [
                  22201,
                  4
                ]
              },
              {
                "dtype": "float32",
                "shape": [
                  22201,
                  4
                ]
              },
              {
                "dtype": "float32",
                "shape": [
                  22201,
                  4
                ]
              },
              {
                "dtype": "float32",
                "shape": [
                  22201,
                  4
                ]
              },
              {
                "dtype": "float32",
                "shape": [
                  22201,
                  4
                ]
              },
              {
                "dtype": "float32",
                "shape": [
                  22201,
                  4
                ]
              },
              {
                "dtype": "float32",
                "shape": [
                  22201,
                  4
                ]
              },
              {
                "dtype": "float32",
                "shape": [
                  22201,
                  4
                ]
              },
              {
                "dtype": "float32",
                "shape": [
                  22201,
                  4
                ]
              },
              {
                "dtype": "float32",
                "shape": [
                  22201,
                  4
                ]
              },
              {
                "dtype": "float32",
                "shape": [
                  22201,
                  4
                ]
              },
              {
                "dtype": "float32",
                "shape": [
                  22201,
                  4
                ]
              },
              {
                "dtype": "float32",
                "shape": [
                  22201,
                  4
                ]
              },
              {
                "dtype": "float32",
                "shape": [
                  22201,
                  4
                ]
              },
              {
                "dtype": "float32",
                "shape": [
                  22201,
                  4
                ]
              },
              {
                "dtype": "float32",
                "shape": [
                  22201,
                  4
                ]
              },
              {
                "dtype": "float32",
                "shape": [
                  22201,
                  4
                ]
              }
            ],
            "line_material": "IPY_MODEL_d4272b32b3d64da0abd316c1425fb4ce",
            "lines": null,
            "material": "IPY_MODEL_f6a4427cb8d0494bb81b42571ae1dfef",
            "sequence_index": 0,
            "texture": null,
            "triangles": [
              {
                "dtype": "uint32",
                "shape": [
                  43808,
                  3
                ]
              }
            ],
            "u": null,
            "v": null,
            "visible": true,
            "x": [
              {
                "dtype": "float32",
                "shape": [
                  22201
                ]
              }
            ],
            "y": [
              {
                "dtype": "float32",
                "shape": [
                  22201
                ]
              }
            ],
            "z": [
              {
                "dtype": "float32",
                "shape": [
                  22201
                ]
              }
            ]
          }
        },
        "199256da031640cf8df510a2247fa37c": {
          "model_module": "@jupyter-widgets/base",
          "model_name": "LayoutModel",
          "model_module_version": "1.2.0",
          "state": {
            "_model_module": "@jupyter-widgets/base",
            "_model_module_version": "1.2.0",
            "_model_name": "LayoutModel",
            "_view_count": null,
            "_view_module": "@jupyter-widgets/base",
            "_view_module_version": "1.2.0",
            "_view_name": "LayoutView",
            "align_content": null,
            "align_items": null,
            "align_self": null,
            "border": null,
            "bottom": null,
            "display": null,
            "flex": null,
            "flex_flow": null,
            "grid_area": null,
            "grid_auto_columns": null,
            "grid_auto_flow": null,
            "grid_auto_rows": null,
            "grid_column": null,
            "grid_gap": null,
            "grid_row": null,
            "grid_template_areas": null,
            "grid_template_columns": null,
            "grid_template_rows": null,
            "height": null,
            "justify_content": null,
            "justify_items": null,
            "left": null,
            "margin": null,
            "max_height": null,
            "max_width": null,
            "min_height": null,
            "min_width": null,
            "object_fit": null,
            "object_position": null,
            "order": null,
            "overflow": null,
            "overflow_x": null,
            "overflow_y": null,
            "padding": null,
            "right": null,
            "top": null,
            "visibility": null,
            "width": null
          }
        },
        "2361181caccc46cf893ab0f9e184894e": {
          "model_module": "@jupyter-widgets/controls",
          "model_name": "DescriptionStyleModel",
          "model_module_version": "1.5.0",
          "state": {
            "_model_module": "@jupyter-widgets/controls",
            "_model_module_version": "1.5.0",
            "_model_name": "DescriptionStyleModel",
            "_view_count": null,
            "_view_module": "@jupyter-widgets/base",
            "_view_module_version": "1.2.0",
            "_view_name": "StyleView",
            "description_width": ""
          }
        },
        "9e2daf2bd2c04664afa6fba40faddbbd": {
          "model_module": "@jupyter-widgets/controls",
          "model_name": "VBoxModel",
          "model_module_version": "1.5.0",
          "state": {
            "_dom_classes": [],
            "_model_module": "@jupyter-widgets/controls",
            "_model_module_version": "1.5.0",
            "_model_name": "VBoxModel",
            "_view_count": null,
            "_view_module": "@jupyter-widgets/controls",
            "_view_module_version": "1.5.0",
            "_view_name": "VBoxView",
            "box_style": "",
            "children": [
              "IPY_MODEL_f870b0702ba6428389354a1bddd1d4b3",
              "IPY_MODEL_7d5c80d2b95240fa8718dbef777224f6"
            ],
            "layout": "IPY_MODEL_31d6c8d054f845b0b562d0b5acd83a98"
          }
        },
        "8a945ced13e94db68236ae363593a78c": {
          "model_module": "@jupyter-widgets/base",
          "model_name": "LayoutModel",
          "model_module_version": "1.2.0",
          "state": {
            "_model_module": "@jupyter-widgets/base",
            "_model_module_version": "1.2.0",
            "_model_name": "LayoutModel",
            "_view_count": null,
            "_view_module": "@jupyter-widgets/base",
            "_view_module_version": "1.2.0",
            "_view_name": "LayoutView",
            "align_content": null,
            "align_items": null,
            "align_self": null,
            "border": null,
            "bottom": null,
            "display": null,
            "flex": null,
            "flex_flow": null,
            "grid_area": null,
            "grid_auto_columns": null,
            "grid_auto_flow": null,
            "grid_auto_rows": null,
            "grid_column": null,
            "grid_gap": null,
            "grid_row": null,
            "grid_template_areas": null,
            "grid_template_columns": null,
            "grid_template_rows": null,
            "height": null,
            "justify_content": null,
            "justify_items": null,
            "left": null,
            "margin": null,
            "max_height": null,
            "max_width": null,
            "min_height": null,
            "min_width": null,
            "object_fit": null,
            "object_position": null,
            "order": null,
            "overflow": null,
            "overflow_x": null,
            "overflow_y": null,
            "padding": null,
            "right": null,
            "top": null,
            "visibility": null,
            "width": null
          }
        },
        "db3a9b3f474040a38b8731418996717a": {
          "model_module": "@jupyter-widgets/controls",
          "model_name": "SliderStyleModel",
          "model_module_version": "1.5.0",
          "state": {
            "_model_module": "@jupyter-widgets/controls",
            "_model_module_version": "1.5.0",
            "_model_name": "SliderStyleModel",
            "_view_count": null,
            "_view_module": "@jupyter-widgets/base",
            "_view_module_version": "1.2.0",
            "_view_name": "StyleView",
            "description_width": "",
            "handle_color": null
          }
        },
        "f870b0702ba6428389354a1bddd1d4b3": {
          "model_module": "ipyvolume",
          "model_name": "FigureModel",
          "model_module_version": "~0.5.2",
          "state": {
            "_dom_classes": [],
            "_model_module": "ipyvolume",
            "_model_module_version": "~0.5.2",
            "_model_name": "FigureModel",
            "_view_count": null,
            "_view_module": "ipyvolume",
            "_view_module_version": "~0.5.2",
            "_view_name": "FigureView",
            "ambient_coefficient": 0.5,
            "animation": 80,
            "animation_exponent": 1,
            "camera": "IPY_MODEL_5338fa1d2fab4ab7b955d63e44a43015",
            "camera_center": [
              0,
              0,
              0
            ],
            "camera_control": "trackball",
            "camera_fov": 45,
            "capture_fps": null,
            "cube_resolution": 512,
            "diffuse_coefficient": 0.8,
            "displayscale": 1,
            "downscale": 1,
            "eye_separation": 6.4,
            "height": 500,
            "layout": "IPY_MODEL_ade5196446974a5c9fe275827cdc6871",
            "matrix_projection": [
              2.9448154572796907,
              0,
              0,
              0,
              0,
              2.3558523658237527,
              0,
              0,
              0,
              0,
              -1.00010000500025,
              -1,
              0,
              0,
              -0.200010000500025,
              0
            ],
            "matrix_world": [
              -0.001546925714629367,
              0.00043408474471236843,
              -0.004734827480260123,
              0,
              -0.00470155500850235,
              -0.000881910676692538,
              0.0014552024121620274,
              0,
              -0.0007088027479100914,
              0.004902428377115132,
              0.000681024721879755,
              0,
              0.07088027479100943,
              -0.49024283771151206,
              -8.216662541503899,
              1.0000000000000002
            ],
            "meshes": [
              "IPY_MODEL_a941ecb1b45e41baa99485e613784381",
              "IPY_MODEL_c5fc6ad7b5704846be64a682453323e0"
            ],
            "mouse_mode": "normal",
            "panorama_mode": "no",
            "render_continuous": false,
            "scatters": [
              "IPY_MODEL_f5a1a418778241c7af987e3ad4fdb440",
              "IPY_MODEL_fc97bd3c362646de99fe49d1764d3945",
              "IPY_MODEL_d39dcb0046bb4b48a82865a6addf16e9"
            ],
            "scene": "IPY_MODEL_8bf2aba14e3246eb9d71e31c0836fab6",
            "selection_mode": "replace",
            "selector": "lasso",
            "show": "Volume",
            "specular_coefficient": 0.5,
            "specular_exponent": 5,
            "stereo": false,
            "style": {
              "axes": {
                "visible": true,
                "label": {
                  "color": "black"
                },
                "ticklabel": {
                  "color": "black"
                },
                "color": "black"
              },
              "box": {
                "visible": false
              },
              "background-color": "white"
            },
            "volumes": [],
            "width": 400,
            "xlabel": "X [Rg]",
            "xlim": [
              -100,
              100
            ],
            "ylabel": "Y [Rg]",
            "ylim": [
              -100,
              100
            ],
            "zlabel": "Z [Rg]",
            "zlim": [
              0,
              200
            ]
          }
        },
        "7d5c80d2b95240fa8718dbef777224f6": {
          "model_module": "@jupyter-widgets/controls",
          "model_name": "HBoxModel",
          "model_module_version": "1.5.0",
          "state": {
            "_dom_classes": [],
            "_model_module": "@jupyter-widgets/controls",
            "_model_module_version": "1.5.0",
            "_model_name": "HBoxModel",
            "_view_count": null,
            "_view_module": "@jupyter-widgets/controls",
            "_view_module_version": "1.5.0",
            "_view_name": "HBoxView",
            "box_style": "",
            "children": [
              "IPY_MODEL_672070e6a7c0496683a16c78ce6d408a",
              "IPY_MODEL_4a0286d29bb045359f9067c4b4bd05b4"
            ],
            "layout": "IPY_MODEL_66c19f11011b495fb8867600dd674bcb"
          }
        },
        "31d6c8d054f845b0b562d0b5acd83a98": {
          "model_module": "@jupyter-widgets/base",
          "model_name": "LayoutModel",
          "model_module_version": "1.2.0",
          "state": {
            "_model_module": "@jupyter-widgets/base",
            "_model_module_version": "1.2.0",
            "_model_name": "LayoutModel",
            "_view_count": null,
            "_view_module": "@jupyter-widgets/base",
            "_view_module_version": "1.2.0",
            "_view_name": "LayoutView",
            "align_content": null,
            "align_items": null,
            "align_self": null,
            "border": null,
            "bottom": null,
            "display": null,
            "flex": null,
            "flex_flow": null,
            "grid_area": null,
            "grid_auto_columns": null,
            "grid_auto_flow": null,
            "grid_auto_rows": null,
            "grid_column": null,
            "grid_gap": null,
            "grid_row": null,
            "grid_template_areas": null,
            "grid_template_columns": null,
            "grid_template_rows": null,
            "height": null,
            "justify_content": null,
            "justify_items": null,
            "left": null,
            "margin": null,
            "max_height": null,
            "max_width": null,
            "min_height": null,
            "min_width": null,
            "object_fit": null,
            "object_position": null,
            "order": null,
            "overflow": null,
            "overflow_x": null,
            "overflow_y": null,
            "padding": null,
            "right": null,
            "top": null,
            "visibility": null,
            "width": null
          }
        },
        "66c19f11011b495fb8867600dd674bcb": {
          "model_module": "@jupyter-widgets/base",
          "model_name": "LayoutModel",
          "model_module_version": "1.2.0",
          "state": {
            "_model_module": "@jupyter-widgets/base",
            "_model_module_version": "1.2.0",
            "_model_name": "LayoutModel",
            "_view_count": null,
            "_view_module": "@jupyter-widgets/base",
            "_view_module_version": "1.2.0",
            "_view_name": "LayoutView",
            "align_content": null,
            "align_items": null,
            "align_self": null,
            "border": null,
            "bottom": null,
            "display": null,
            "flex": null,
            "flex_flow": null,
            "grid_area": null,
            "grid_auto_columns": null,
            "grid_auto_flow": null,
            "grid_auto_rows": null,
            "grid_column": null,
            "grid_gap": null,
            "grid_row": null,
            "grid_template_areas": null,
            "grid_template_columns": null,
            "grid_template_rows": null,
            "height": null,
            "justify_content": null,
            "justify_items": null,
            "left": null,
            "margin": null,
            "max_height": null,
            "max_width": null,
            "min_height": null,
            "min_width": null,
            "object_fit": null,
            "object_position": null,
            "order": null,
            "overflow": null,
            "overflow_x": null,
            "overflow_y": null,
            "padding": null,
            "right": null,
            "top": null,
            "visibility": null,
            "width": null
          }
        },
        "5338fa1d2fab4ab7b955d63e44a43015": {
          "model_module": "jupyter-threejs",
          "model_name": "PerspectiveCameraModel",
          "model_module_version": "^2.1.0",
          "state": {
            "_model_module": "jupyter-threejs",
            "_model_module_version": "^2.1.0",
            "_model_name": "PerspectiveCameraModel",
            "_view_count": null,
            "_view_module": null,
            "_view_module_version": "",
            "_view_name": null,
            "aspect": 0.8,
            "castShadow": false,
            "children": [],
            "far": 2000,
            "focus": 10,
            "fov": 46,
            "frustumCulled": true,
            "matrix": [
              -0.3093851429258734,
              -0.9403110017004699,
              -0.1417605495820181,
              0,
              0.08681694894247372,
              -0.17638213533850777,
              0.9804856754230264,
              0,
              -0.9469654960520245,
              0.2910404824324054,
              0.13620494437595088,
              0,
              -7.716405228149473,
              2.371560853703141,
              1.1098741709852686,
              1
            ],
            "matrixAutoUpdate": true,
            "matrixWorld": [
              -0.3093851429258734,
              -0.9403110017004699,
              -0.1417605495820181,
              0,
              0.08681694894247372,
              -0.17638213533850777,
              0.9804856754230264,
              0,
              -0.9469654960520245,
              0.2910404824324054,
              0.13620494437595088,
              0,
              -7.716405228149473,
              2.371560853703141,
              1.1098741709852686,
              1
            ],
            "matrixWorldInverse": [
              -0.3093851429258734,
              0.08681694894247369,
              -0.9469654960520245,
              0,
              -0.94031100170047,
              -0.1763821353385076,
              0.2910404824324055,
              0,
              -0.14176054958201828,
              0.9804856754230264,
              0.136204944375951,
              0,
              2.914335439641036e-16,
              1.1518563880486e-15,
              -8.148560069315923,
              1.0000000000000002
            ],
            "matrixWorldNeedsUpdate": true,
            "modelViewMatrix": [
              1,
              0,
              0,
              0,
              0,
              1,
              0,
              0,
              0,
              0,
              1,
              0,
              0,
              0,
              0,
              1
            ],
            "name": "",
            "near": 0.1,
            "normalMatrix": [
              1,
              0,
              0,
              0,
              1,
              0,
              0,
              0,
              1
            ],
            "position": [
              -7.716405228149473,
              2.371560853703141,
              1.1098741709852686
            ],
            "projectionMatrix": [
              2.9448154572796907,
              0,
              0,
              0,
              0,
              2.3558523658237527,
              0,
              0,
              0,
              0,
              -1.00010000500025,
              -1,
              0,
              0,
              -0.200010000500025,
              0
            ],
            "quaternion": [
              -0.4274318799635456,
              0.4991988739999858,
              0.6367833663500351,
              -0.40324857907733846
            ],
            "receiveShadow": false,
            "renderOrder": 0,
            "rotation": [
              -1.1330804772340226,
              -1.2436571354421722,
              -2.8680172367890235,
              "XYZ"
            ],
            "scale": [
              1,
              1,
              1
            ],
            "type": "PerspectiveCamera",
            "up": [
              0.08681694894247372,
              -0.1763821353385076,
              0.9804856754230264
            ],
            "visible": true,
            "zoom": 1
          }
        },
        "ade5196446974a5c9fe275827cdc6871": {
          "model_module": "@jupyter-widgets/base",
          "model_name": "LayoutModel",
          "model_module_version": "1.2.0",
          "state": {
            "_model_module": "@jupyter-widgets/base",
            "_model_module_version": "1.2.0",
            "_model_name": "LayoutModel",
            "_view_count": null,
            "_view_module": "@jupyter-widgets/base",
            "_view_module_version": "1.2.0",
            "_view_name": "LayoutView",
            "align_content": null,
            "align_items": null,
            "align_self": null,
            "border": null,
            "bottom": null,
            "display": null,
            "flex": null,
            "flex_flow": null,
            "grid_area": null,
            "grid_auto_columns": null,
            "grid_auto_flow": null,
            "grid_auto_rows": null,
            "grid_column": null,
            "grid_gap": null,
            "grid_row": null,
            "grid_template_areas": null,
            "grid_template_columns": null,
            "grid_template_rows": null,
            "height": null,
            "justify_content": null,
            "justify_items": null,
            "left": null,
            "margin": null,
            "max_height": null,
            "max_width": null,
            "min_height": null,
            "min_width": null,
            "object_fit": null,
            "object_position": null,
            "order": null,
            "overflow": null,
            "overflow_x": null,
            "overflow_y": null,
            "padding": null,
            "right": null,
            "top": null,
            "visibility": null,
            "width": null
          }
        },
        "c5fc6ad7b5704846be64a682453323e0": {
          "model_module": "ipyvolume",
          "model_name": "MeshModel",
          "model_module_version": "~0.5.2",
          "state": {
            "_model_module": "ipyvolume",
            "_model_module_version": "~0.5.2",
            "_model_name": "MeshModel",
            "_view_count": null,
            "_view_module": "ipyvolume",
            "_view_module_version": "~0.5.2",
            "_view_name": "MeshView",
            "color": [
              {
                "dtype": "float32",
                "shape": [
                  4
                ]
              }
            ],
            "line_material": "IPY_MODEL_7c330cf0d9904f29bcfa7e608b6170e0",
            "lines": null,
            "material": "IPY_MODEL_66643e3565f84f8eb827c871da11fbb6",
            "sequence_index": 0,
            "texture": null,
            "triangles": [
              {
                "dtype": "uint32",
                "shape": [
                  43808,
                  3
                ]
              }
            ],
            "u": null,
            "v": null,
            "visible": true,
            "x": [
              {
                "dtype": "float32",
                "shape": [
                  22201
                ]
              }
            ],
            "y": [
              {
                "dtype": "float32",
                "shape": [
                  22201
                ]
              }
            ],
            "z": [
              {
                "dtype": "float32",
                "shape": [
                  22201
                ]
              }
            ]
          }
        },
        "f5a1a418778241c7af987e3ad4fdb440": {
          "model_module": "ipyvolume",
          "model_name": "ScatterModel",
          "model_module_version": "~0.5.2",
          "state": {
            "_model_module": "ipyvolume",
            "_model_module_version": "~0.5.2",
            "_model_name": "ScatterModel",
            "_view_count": null,
            "_view_module": "ipyvolume",
            "_view_module_version": "~0.5.2",
            "_view_name": "ScatterView",
            "color": "yellow",
            "color_selected": "white",
            "connected": false,
            "geo": "sphere",
            "line_material": "IPY_MODEL_c4d4135feaf54aa38a26eae9abf3d426",
            "material": "IPY_MODEL_205575b6a0ee48398199dfa4fdd9bd74",
            "selected": null,
            "sequence_index": 0,
            "size": 1,
            "size_selected": 2.6,
            "texture": null,
            "visible": true,
            "vx": null,
            "vy": null,
            "vz": null,
            "x": [
              {
                "dtype": "float32",
                "shape": [
                  1
                ]
              }
            ],
            "y": [
              {
                "dtype": "float32",
                "shape": [
                  1
                ]
              }
            ],
            "z": [
              {
                "dtype": "float32",
                "shape": [
                  1
                ]
              }
            ]
          }
        },
        "fc97bd3c362646de99fe49d1764d3945": {
          "model_module": "ipyvolume",
          "model_name": "ScatterModel",
          "model_module_version": "~0.5.2",
          "state": {
            "_model_module": "ipyvolume",
            "_model_module_version": "~0.5.2",
            "_model_name": "ScatterModel",
            "_view_count": null,
            "_view_module": "ipyvolume",
            "_view_module_version": "~0.5.2",
            "_view_name": "ScatterView",
            "color": "black",
            "color_selected": "white",
            "connected": false,
            "geo": "sphere",
            "line_material": "IPY_MODEL_7e4d58616a7346a5b72766a67dca50e9",
            "material": "IPY_MODEL_66673788c78347e0b2c7547ae64fee6b",
            "selected": null,
            "sequence_index": 0,
            "size": 1,
            "size_selected": 2.6,
            "texture": null,
            "visible": true,
            "vx": null,
            "vy": null,
            "vz": null,
            "x": [
              {
                "dtype": "float32",
                "shape": [
                  1
                ]
              }
            ],
            "y": [
              {
                "dtype": "float32",
                "shape": [
                  1
                ]
              }
            ],
            "z": [
              {
                "dtype": "float32",
                "shape": [
                  1
                ]
              }
            ]
          }
        },
        "d39dcb0046bb4b48a82865a6addf16e9": {
          "model_module": "ipyvolume",
          "model_name": "ScatterModel",
          "model_module_version": "~0.5.2",
          "state": {
            "_model_module": "ipyvolume",
            "_model_module_version": "~0.5.2",
            "_model_name": "ScatterModel",
            "_view_count": null,
            "_view_module": "ipyvolume",
            "_view_module_version": "~0.5.2",
            "_view_name": "ScatterView",
            "color": "red",
            "color_selected": null,
            "connected": true,
            "geo": "diamond",
            "line_material": "IPY_MODEL_5b6d6b891b2e4d36bd1d3502eeefbe91",
            "material": "IPY_MODEL_6f141610908f4e7c880eb873952e49d4",
            "selected": null,
            "sequence_index": 0,
            "size": 1,
            "size_selected": 1,
            "texture": null,
            "visible": true,
            "vx": null,
            "vy": null,
            "vz": null,
            "x": [
              {
                "dtype": "float32",
                "shape": [
                  50
                ]
              }
            ],
            "y": [
              {
                "dtype": "float32",
                "shape": [
                  50
                ]
              }
            ],
            "z": [
              {
                "dtype": "float32",
                "shape": [
                  50
                ]
              }
            ]
          }
        },
        "8bf2aba14e3246eb9d71e31c0836fab6": {
          "model_module": "jupyter-threejs",
          "model_name": "SceneModel",
          "model_module_version": "^2.1.0",
          "state": {
            "_model_module": "jupyter-threejs",
            "_model_module_version": "^2.1.0",
            "_model_name": "SceneModel",
            "_view_count": null,
            "_view_module": null,
            "_view_module_version": "",
            "_view_name": null,
            "autoUpdate": true,
            "background": null,
            "castShadow": false,
            "children": [],
            "fog": null,
            "frustumCulled": true,
            "matrix": [
              1,
              0,
              0,
              0,
              0,
              1,
              0,
              0,
              0,
              0,
              1,
              0,
              0,
              0,
              0,
              1
            ],
            "matrixAutoUpdate": true,
            "matrixWorld": [
              1,
              0,
              0,
              0,
              0,
              1,
              0,
              0,
              0,
              0,
              1,
              0,
              0,
              0,
              0,
              1
            ],
            "matrixWorldNeedsUpdate": false,
            "modelViewMatrix": [
              1,
              0,
              0,
              0,
              0,
              1,
              0,
              0,
              0,
              0,
              1,
              0,
              0,
              0,
              0,
              1
            ],
            "name": "",
            "normalMatrix": [
              1,
              0,
              0,
              0,
              1,
              0,
              0,
              0,
              1
            ],
            "overrideMaterial": null,
            "position": [
              0,
              0,
              0
            ],
            "quaternion": [
              0,
              0,
              0,
              1
            ],
            "receiveShadow": false,
            "renderOrder": 0,
            "rotation": [
              0,
              0,
              0,
              "XYZ"
            ],
            "scale": [
              1,
              1,
              1
            ],
            "type": "Scene",
            "up": [
              0,
              1,
              0
            ],
            "visible": true
          }
        },
        "d4272b32b3d64da0abd316c1425fb4ce": {
          "model_module": "jupyter-threejs",
          "model_name": "ShaderMaterialModel",
          "model_module_version": "^2.1.0",
          "state": {
            "_model_module": "jupyter-threejs",
            "_model_module_version": "^2.1.0",
            "_model_name": "ShaderMaterialModel",
            "_view_count": null,
            "_view_module": null,
            "_view_module_version": "",
            "_view_name": null,
            "alphaTest": 0,
            "blendDst": "OneMinusSrcAlphaFactor",
            "blendDstAlpha": 0,
            "blendEquation": "AddEquation",
            "blendEquationAlpha": 0,
            "blendSrc": "SrcAlphaFactor",
            "blendSrcAlpha": 0,
            "blending": "NormalBlending",
            "clipIntersection": false,
            "clipShadows": false,
            "clipping": false,
            "clippingPlanes": [],
            "colorWrite": true,
            "defines": null,
            "depthFunc": "LessEqualDepth",
            "depthTest": true,
            "depthWrite": true,
            "dithering": false,
            "extensions": {},
            "flatShading": false,
            "fog": false,
            "fragmentShader": "",
            "lights": false,
            "linewidth": 1,
            "morphNormals": false,
            "morphTargets": false,
            "name": "",
            "opacity": 1,
            "overdraw": 0,
            "polygonOffset": false,
            "polygonOffsetFactor": 0,
            "polygonOffsetUnits": 0,
            "precision": null,
            "premultipliedAlpha": false,
            "shadowSide": null,
            "side": "FrontSide",
            "skinning": false,
            "transparent": false,
            "type": "ShaderMaterial",
            "uniforms": {},
            "uniformsNeedUpdate": false,
            "vertexColors": "NoColors",
            "vertexShader": "",
            "visible": true,
            "wireframe": false,
            "wireframeLinewidth": 1
          }
        },
        "f6a4427cb8d0494bb81b42571ae1dfef": {
          "model_module": "jupyter-threejs",
          "model_name": "ShaderMaterialModel",
          "model_module_version": "^2.1.0",
          "state": {
            "_model_module": "jupyter-threejs",
            "_model_module_version": "^2.1.0",
            "_model_name": "ShaderMaterialModel",
            "_view_count": null,
            "_view_module": null,
            "_view_module_version": "",
            "_view_name": null,
            "alphaTest": 0,
            "blendDst": "OneMinusSrcAlphaFactor",
            "blendDstAlpha": 0,
            "blendEquation": "AddEquation",
            "blendEquationAlpha": 0,
            "blendSrc": "SrcAlphaFactor",
            "blendSrcAlpha": 0,
            "blending": "NormalBlending",
            "clipIntersection": false,
            "clipShadows": false,
            "clipping": false,
            "clippingPlanes": [],
            "colorWrite": true,
            "defines": null,
            "depthFunc": "LessEqualDepth",
            "depthTest": true,
            "depthWrite": true,
            "dithering": false,
            "extensions": {},
            "flatShading": false,
            "fog": false,
            "fragmentShader": "",
            "lights": false,
            "linewidth": 1,
            "morphNormals": false,
            "morphTargets": false,
            "name": "",
            "opacity": 1,
            "overdraw": 0,
            "polygonOffset": false,
            "polygonOffsetFactor": 0,
            "polygonOffsetUnits": 0,
            "precision": null,
            "premultipliedAlpha": false,
            "shadowSide": null,
            "side": "DoubleSide",
            "skinning": false,
            "transparent": true,
            "type": "ShaderMaterial",
            "uniforms": {},
            "uniformsNeedUpdate": false,
            "vertexColors": "NoColors",
            "vertexShader": "",
            "visible": true,
            "wireframe": false,
            "wireframeLinewidth": 1
          }
        },
        "7c330cf0d9904f29bcfa7e608b6170e0": {
          "model_module": "jupyter-threejs",
          "model_name": "ShaderMaterialModel",
          "model_module_version": "^2.1.0",
          "state": {
            "_model_module": "jupyter-threejs",
            "_model_module_version": "^2.1.0",
            "_model_name": "ShaderMaterialModel",
            "_view_count": null,
            "_view_module": null,
            "_view_module_version": "",
            "_view_name": null,
            "alphaTest": 0,
            "blendDst": "OneMinusSrcAlphaFactor",
            "blendDstAlpha": 0,
            "blendEquation": "AddEquation",
            "blendEquationAlpha": 0,
            "blendSrc": "SrcAlphaFactor",
            "blendSrcAlpha": 0,
            "blending": "NormalBlending",
            "clipIntersection": false,
            "clipShadows": false,
            "clipping": false,
            "clippingPlanes": [],
            "colorWrite": true,
            "defines": null,
            "depthFunc": "LessEqualDepth",
            "depthTest": true,
            "depthWrite": true,
            "dithering": false,
            "extensions": {},
            "flatShading": false,
            "fog": false,
            "fragmentShader": "",
            "lights": false,
            "linewidth": 1,
            "morphNormals": false,
            "morphTargets": false,
            "name": "",
            "opacity": 1,
            "overdraw": 0,
            "polygonOffset": false,
            "polygonOffsetFactor": 0,
            "polygonOffsetUnits": 0,
            "precision": null,
            "premultipliedAlpha": false,
            "shadowSide": null,
            "side": "FrontSide",
            "skinning": false,
            "transparent": false,
            "type": "ShaderMaterial",
            "uniforms": {},
            "uniformsNeedUpdate": false,
            "vertexColors": "NoColors",
            "vertexShader": "",
            "visible": true,
            "wireframe": false,
            "wireframeLinewidth": 1
          }
        },
        "66643e3565f84f8eb827c871da11fbb6": {
          "model_module": "jupyter-threejs",
          "model_name": "ShaderMaterialModel",
          "model_module_version": "^2.1.0",
          "state": {
            "_model_module": "jupyter-threejs",
            "_model_module_version": "^2.1.0",
            "_model_name": "ShaderMaterialModel",
            "_view_count": null,
            "_view_module": null,
            "_view_module_version": "",
            "_view_name": null,
            "alphaTest": 0,
            "blendDst": "OneMinusSrcAlphaFactor",
            "blendDstAlpha": 0,
            "blendEquation": "AddEquation",
            "blendEquationAlpha": 0,
            "blendSrc": "SrcAlphaFactor",
            "blendSrcAlpha": 0,
            "blending": "NormalBlending",
            "clipIntersection": false,
            "clipShadows": false,
            "clipping": false,
            "clippingPlanes": [],
            "colorWrite": true,
            "defines": null,
            "depthFunc": "LessEqualDepth",
            "depthTest": true,
            "depthWrite": true,
            "dithering": false,
            "extensions": {},
            "flatShading": false,
            "fog": false,
            "fragmentShader": "",
            "lights": false,
            "linewidth": 1,
            "morphNormals": false,
            "morphTargets": false,
            "name": "",
            "opacity": 1,
            "overdraw": 0,
            "polygonOffset": false,
            "polygonOffsetFactor": 0,
            "polygonOffsetUnits": 0,
            "precision": null,
            "premultipliedAlpha": false,
            "shadowSide": null,
            "side": "DoubleSide",
            "skinning": false,
            "transparent": true,
            "type": "ShaderMaterial",
            "uniforms": {},
            "uniformsNeedUpdate": false,
            "vertexColors": "NoColors",
            "vertexShader": "",
            "visible": true,
            "wireframe": false,
            "wireframeLinewidth": 1
          }
        },
        "c4d4135feaf54aa38a26eae9abf3d426": {
          "model_module": "jupyter-threejs",
          "model_name": "ShaderMaterialModel",
          "model_module_version": "^2.1.0",
          "state": {
            "_model_module": "jupyter-threejs",
            "_model_module_version": "^2.1.0",
            "_model_name": "ShaderMaterialModel",
            "_view_count": null,
            "_view_module": null,
            "_view_module_version": "",
            "_view_name": null,
            "alphaTest": 0,
            "blendDst": "OneMinusSrcAlphaFactor",
            "blendDstAlpha": 0,
            "blendEquation": "AddEquation",
            "blendEquationAlpha": 0,
            "blendSrc": "SrcAlphaFactor",
            "blendSrcAlpha": 0,
            "blending": "NormalBlending",
            "clipIntersection": false,
            "clipShadows": false,
            "clipping": false,
            "clippingPlanes": [],
            "colorWrite": true,
            "defines": null,
            "depthFunc": "LessEqualDepth",
            "depthTest": true,
            "depthWrite": true,
            "dithering": false,
            "extensions": {},
            "flatShading": false,
            "fog": false,
            "fragmentShader": "",
            "lights": false,
            "linewidth": 1,
            "morphNormals": false,
            "morphTargets": false,
            "name": "",
            "opacity": 1,
            "overdraw": 0,
            "polygonOffset": false,
            "polygonOffsetFactor": 0,
            "polygonOffsetUnits": 0,
            "precision": null,
            "premultipliedAlpha": false,
            "shadowSide": null,
            "side": "FrontSide",
            "skinning": false,
            "transparent": false,
            "type": "ShaderMaterial",
            "uniforms": {},
            "uniformsNeedUpdate": false,
            "vertexColors": "NoColors",
            "vertexShader": "",
            "visible": true,
            "wireframe": false,
            "wireframeLinewidth": 1
          }
        },
        "205575b6a0ee48398199dfa4fdd9bd74": {
          "model_module": "jupyter-threejs",
          "model_name": "ShaderMaterialModel",
          "model_module_version": "^2.1.0",
          "state": {
            "_model_module": "jupyter-threejs",
            "_model_module_version": "^2.1.0",
            "_model_name": "ShaderMaterialModel",
            "_view_count": null,
            "_view_module": null,
            "_view_module_version": "",
            "_view_name": null,
            "alphaTest": 0,
            "blendDst": "OneMinusSrcAlphaFactor",
            "blendDstAlpha": 0,
            "blendEquation": "AddEquation",
            "blendEquationAlpha": 0,
            "blendSrc": "SrcAlphaFactor",
            "blendSrcAlpha": 0,
            "blending": "NormalBlending",
            "clipIntersection": false,
            "clipShadows": false,
            "clipping": false,
            "clippingPlanes": [],
            "colorWrite": true,
            "defines": null,
            "depthFunc": "LessEqualDepth",
            "depthTest": true,
            "depthWrite": true,
            "dithering": false,
            "extensions": {},
            "flatShading": false,
            "fog": false,
            "fragmentShader": "",
            "lights": false,
            "linewidth": 1,
            "morphNormals": false,
            "morphTargets": false,
            "name": "",
            "opacity": 1,
            "overdraw": 0,
            "polygonOffset": false,
            "polygonOffsetFactor": 0,
            "polygonOffsetUnits": 0,
            "precision": null,
            "premultipliedAlpha": false,
            "shadowSide": null,
            "side": "FrontSide",
            "skinning": false,
            "transparent": false,
            "type": "ShaderMaterial",
            "uniforms": {},
            "uniformsNeedUpdate": false,
            "vertexColors": "NoColors",
            "vertexShader": "",
            "visible": true,
            "wireframe": false,
            "wireframeLinewidth": 1
          }
        },
        "7e4d58616a7346a5b72766a67dca50e9": {
          "model_module": "jupyter-threejs",
          "model_name": "ShaderMaterialModel",
          "model_module_version": "^2.1.0",
          "state": {
            "_model_module": "jupyter-threejs",
            "_model_module_version": "^2.1.0",
            "_model_name": "ShaderMaterialModel",
            "_view_count": null,
            "_view_module": null,
            "_view_module_version": "",
            "_view_name": null,
            "alphaTest": 0,
            "blendDst": "OneMinusSrcAlphaFactor",
            "blendDstAlpha": 0,
            "blendEquation": "AddEquation",
            "blendEquationAlpha": 0,
            "blendSrc": "SrcAlphaFactor",
            "blendSrcAlpha": 0,
            "blending": "NormalBlending",
            "clipIntersection": false,
            "clipShadows": false,
            "clipping": false,
            "clippingPlanes": [],
            "colorWrite": true,
            "defines": null,
            "depthFunc": "LessEqualDepth",
            "depthTest": true,
            "depthWrite": true,
            "dithering": false,
            "extensions": {},
            "flatShading": false,
            "fog": false,
            "fragmentShader": "",
            "lights": false,
            "linewidth": 1,
            "morphNormals": false,
            "morphTargets": false,
            "name": "",
            "opacity": 1,
            "overdraw": 0,
            "polygonOffset": false,
            "polygonOffsetFactor": 0,
            "polygonOffsetUnits": 0,
            "precision": null,
            "premultipliedAlpha": false,
            "shadowSide": null,
            "side": "FrontSide",
            "skinning": false,
            "transparent": false,
            "type": "ShaderMaterial",
            "uniforms": {},
            "uniformsNeedUpdate": false,
            "vertexColors": "NoColors",
            "vertexShader": "",
            "visible": true,
            "wireframe": false,
            "wireframeLinewidth": 1
          }
        },
        "66673788c78347e0b2c7547ae64fee6b": {
          "model_module": "jupyter-threejs",
          "model_name": "ShaderMaterialModel",
          "model_module_version": "^2.1.0",
          "state": {
            "_model_module": "jupyter-threejs",
            "_model_module_version": "^2.1.0",
            "_model_name": "ShaderMaterialModel",
            "_view_count": null,
            "_view_module": null,
            "_view_module_version": "",
            "_view_name": null,
            "alphaTest": 0,
            "blendDst": "OneMinusSrcAlphaFactor",
            "blendDstAlpha": 0,
            "blendEquation": "AddEquation",
            "blendEquationAlpha": 0,
            "blendSrc": "SrcAlphaFactor",
            "blendSrcAlpha": 0,
            "blending": "NormalBlending",
            "clipIntersection": false,
            "clipShadows": false,
            "clipping": false,
            "clippingPlanes": [],
            "colorWrite": true,
            "defines": null,
            "depthFunc": "LessEqualDepth",
            "depthTest": true,
            "depthWrite": true,
            "dithering": false,
            "extensions": {},
            "flatShading": false,
            "fog": false,
            "fragmentShader": "",
            "lights": false,
            "linewidth": 1,
            "morphNormals": false,
            "morphTargets": false,
            "name": "",
            "opacity": 1,
            "overdraw": 0,
            "polygonOffset": false,
            "polygonOffsetFactor": 0,
            "polygonOffsetUnits": 0,
            "precision": null,
            "premultipliedAlpha": false,
            "shadowSide": null,
            "side": "FrontSide",
            "skinning": false,
            "transparent": true,
            "type": "ShaderMaterial",
            "uniforms": {},
            "uniformsNeedUpdate": false,
            "vertexColors": "NoColors",
            "vertexShader": "",
            "visible": true,
            "wireframe": false,
            "wireframeLinewidth": 1
          }
        },
        "5b6d6b891b2e4d36bd1d3502eeefbe91": {
          "model_module": "jupyter-threejs",
          "model_name": "ShaderMaterialModel",
          "model_module_version": "^2.1.0",
          "state": {
            "_model_module": "jupyter-threejs",
            "_model_module_version": "^2.1.0",
            "_model_name": "ShaderMaterialModel",
            "_view_count": null,
            "_view_module": null,
            "_view_module_version": "",
            "_view_name": null,
            "alphaTest": 0,
            "blendDst": "OneMinusSrcAlphaFactor",
            "blendDstAlpha": 0,
            "blendEquation": "AddEquation",
            "blendEquationAlpha": 0,
            "blendSrc": "SrcAlphaFactor",
            "blendSrcAlpha": 0,
            "blending": "NormalBlending",
            "clipIntersection": false,
            "clipShadows": false,
            "clipping": false,
            "clippingPlanes": [],
            "colorWrite": true,
            "defines": null,
            "depthFunc": "LessEqualDepth",
            "depthTest": true,
            "depthWrite": true,
            "dithering": false,
            "extensions": {},
            "flatShading": false,
            "fog": false,
            "fragmentShader": "",
            "lights": false,
            "linewidth": 1,
            "morphNormals": false,
            "morphTargets": false,
            "name": "",
            "opacity": 1,
            "overdraw": 0,
            "polygonOffset": false,
            "polygonOffsetFactor": 0,
            "polygonOffsetUnits": 0,
            "precision": null,
            "premultipliedAlpha": false,
            "shadowSide": null,
            "side": "FrontSide",
            "skinning": false,
            "transparent": false,
            "type": "ShaderMaterial",
            "uniforms": {},
            "uniformsNeedUpdate": false,
            "vertexColors": "NoColors",
            "vertexShader": "",
            "visible": true,
            "wireframe": false,
            "wireframeLinewidth": 1
          }
        },
        "6f141610908f4e7c880eb873952e49d4": {
          "model_module": "jupyter-threejs",
          "model_name": "ShaderMaterialModel",
          "model_module_version": "^2.1.0",
          "state": {
            "_model_module": "jupyter-threejs",
            "_model_module_version": "^2.1.0",
            "_model_name": "ShaderMaterialModel",
            "_view_count": null,
            "_view_module": null,
            "_view_module_version": "",
            "_view_name": null,
            "alphaTest": 0,
            "blendDst": "OneMinusSrcAlphaFactor",
            "blendDstAlpha": 0,
            "blendEquation": "AddEquation",
            "blendEquationAlpha": 0,
            "blendSrc": "SrcAlphaFactor",
            "blendSrcAlpha": 0,
            "blending": "NormalBlending",
            "clipIntersection": false,
            "clipShadows": false,
            "clipping": false,
            "clippingPlanes": [],
            "colorWrite": true,
            "defines": null,
            "depthFunc": "LessEqualDepth",
            "depthTest": true,
            "depthWrite": true,
            "dithering": false,
            "extensions": {},
            "flatShading": false,
            "fog": false,
            "fragmentShader": "",
            "lights": false,
            "linewidth": 1,
            "morphNormals": false,
            "morphTargets": false,
            "name": "",
            "opacity": 1,
            "overdraw": 0,
            "polygonOffset": false,
            "polygonOffsetFactor": 0,
            "polygonOffsetUnits": 0,
            "precision": null,
            "premultipliedAlpha": false,
            "shadowSide": null,
            "side": "FrontSide",
            "skinning": false,
            "transparent": false,
            "type": "ShaderMaterial",
            "uniforms": {},
            "uniformsNeedUpdate": false,
            "vertexColors": "NoColors",
            "vertexShader": "",
            "visible": false,
            "wireframe": false,
            "wireframeLinewidth": 1
          }
        }
      }
    }
  },
  "nbformat": 4,
  "nbformat_minor": 0
}